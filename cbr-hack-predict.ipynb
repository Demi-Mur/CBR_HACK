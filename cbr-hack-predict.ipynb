{
 "cells": [
  {
   "cell_type": "code",
   "execution_count": null,
   "metadata": {
    "execution": {
     "iopub.execute_input": "2022-08-28T06:38:27.352854Z",
     "iopub.status.busy": "2022-08-28T06:38:27.351815Z",
     "iopub.status.idle": "2022-08-28T06:38:42.816211Z",
     "shell.execute_reply": "2022-08-28T06:38:42.814429Z",
     "shell.execute_reply.started": "2022-08-28T06:38:27.352704Z"
    }
   },
   "outputs": [],
   "source": [
    "pip install openpyxl"
   ]
  },
  {
   "cell_type": "code",
   "execution_count": null,
   "metadata": {
    "execution": {
     "iopub.execute_input": "2022-08-27T23:11:15.819993Z",
     "iopub.status.busy": "2022-08-27T23:11:15.819568Z",
     "iopub.status.idle": "2022-08-27T23:11:27.096971Z",
     "shell.execute_reply": "2022-08-27T23:11:27.095236Z",
     "shell.execute_reply.started": "2022-08-27T23:11:15.819952Z"
    }
   },
   "outputs": [],
   "source": [
    "pip install xgboost"
   ]
  },
  {
   "cell_type": "code",
   "execution_count": null,
   "metadata": {
    "execution": {
     "iopub.execute_input": "2022-08-28T06:52:30.751591Z",
     "iopub.status.busy": "2022-08-28T06:52:30.751061Z",
     "iopub.status.idle": "2022-08-28T06:52:30.768303Z",
     "shell.execute_reply": "2022-08-28T06:52:30.767148Z",
     "shell.execute_reply.started": "2022-08-28T06:52:30.751550Z"
    }
   },
   "outputs": [],
   "source": [
    "import numpy as np\n",
    "import pandas as pd\n",
    "import openpyxl\n",
    "import seaborn as sns\n",
    "import matplotlib.pyplot as plt\n",
    "import torch\n",
    "\n",
    "from scipy.signal import periodogram\n",
    "\n",
    "from sklearn.metrics import mean_squared_error\n",
    "from sklearn.linear_model import *\n",
    "from sklearn.neural_network import MLPRegressor\n",
    "from sklearn.preprocessing import StandardScaler\n",
    "\n",
    "from xgboost import XGBRegressor"
   ]
  },
  {
   "cell_type": "code",
   "execution_count": null,
   "metadata": {
    "_cell_guid": "b1076dfc-b9ad-4769-8c92-a6c4dae69d19",
    "_uuid": "8f2839f25d086af736a60e9eeb907d3b93b6e0e5",
    "execution": {
     "iopub.execute_input": "2022-08-28T06:39:28.274321Z",
     "iopub.status.busy": "2022-08-28T06:39:28.273748Z",
     "iopub.status.idle": "2022-08-28T06:39:28.494552Z",
     "shell.execute_reply": "2022-08-28T06:39:28.493127Z",
     "shell.execute_reply.started": "2022-08-28T06:39:28.274265Z"
    }
   },
   "outputs": [],
   "source": [
    "data = pd.read_excel('./content/Train.xlsx', sheet_name='Monthly')"
   ]
  },
  {
   "cell_type": "code",
   "execution_count": null,
   "metadata": {
    "execution": {
     "iopub.execute_input": "2022-08-28T06:39:28.801608Z",
     "iopub.status.busy": "2022-08-28T06:39:28.801085Z",
     "iopub.status.idle": "2022-08-28T06:39:28.842689Z",
     "shell.execute_reply": "2022-08-28T06:39:28.841295Z",
     "shell.execute_reply.started": "2022-08-28T06:39:28.801554Z"
    }
   },
   "outputs": [],
   "source": [
    "data = data.rename(columns={'Unnamed: 0' : 'time'})  # переименовываем Unnamed: 0 в time (колонка время)\n",
    "data.drop(0, inplace = True)  # удаляем неиформативную (и мешающую) строку преобразования данных\n",
    "data['time'] = data['time'].apply(lambda x: x[:4] + x[5:]) # преобразовываем дату в формат datetime\n",
    "data['time'] = pd.to_datetime(data['time'], format='%Y%m')\n",
    "data = data.set_index(data['time'])\n",
    "data = data.drop('time', axis=1)\n",
    "\n",
    "scaler = StandardScaler()\n",
    "scaler.fit(data)\n",
    "data = pd.DataFrame(scaler.transform(data), index=data.index, columns=data.columns)"
   ]
  },
  {
   "cell_type": "code",
   "execution_count": null,
   "metadata": {
    "execution": {
     "iopub.execute_input": "2022-08-28T06:49:14.131033Z",
     "iopub.status.busy": "2022-08-28T06:49:14.130662Z",
     "iopub.status.idle": "2022-08-28T06:49:14.139370Z",
     "shell.execute_reply": "2022-08-28T06:49:14.138414Z",
     "shell.execute_reply.started": "2022-08-28T06:49:14.131000Z"
    }
   },
   "outputs": [],
   "source": [
    "def data_preparation(data, test=False):\n",
    "    X = data.copy()\n",
    "    X = X.rename(columns={'Unnamed: 0' : 'time'})  # переименовываем Unnamed: 0 в time (колонка время)\n",
    "    datatime_function = lambda x: '20'+x[:2]+x[3:] if test else lambda x: x[:4] + x[5:]\n",
    "    \n",
    "    X['time'] = X['time'].apply(datatime_function) # преобразовываем дату в формат datetime\n",
    "    X['time'] = pd.to_datetime(X['time'], format='%Y%m')\n",
    "    X = X.set_index(X['time'])\n",
    "    X = X.drop('time', axis=1)\n",
    "    \n",
    "    if not test:\n",
    "        scaler = StandardScaler()\n",
    "        scaler.fit(X)\n",
    "        X = pd.DataFrame(scaler.transform(X), index=X.index, columns=X.columns)   \n",
    "    return X"
   ]
  },
  {
   "cell_type": "code",
   "execution_count": null,
   "metadata": {
    "execution": {
     "iopub.execute_input": "2022-08-28T06:39:30.785717Z",
     "iopub.status.busy": "2022-08-28T06:39:30.785228Z",
     "iopub.status.idle": "2022-08-28T06:39:30.792532Z",
     "shell.execute_reply": "2022-08-28T06:39:30.791084Z",
     "shell.execute_reply.started": "2022-08-28T06:39:30.785672Z"
    }
   },
   "outputs": [],
   "source": [
    "data = data.astype(np.float64)"
   ]
  },
  {
   "cell_type": "code",
   "execution_count": null,
   "metadata": {
    "execution": {
     "iopub.execute_input": "2022-08-28T06:39:32.069045Z",
     "iopub.status.busy": "2022-08-28T06:39:32.068555Z",
     "iopub.status.idle": "2022-08-28T06:39:32.085787Z",
     "shell.execute_reply": "2022-08-28T06:39:32.084323Z",
     "shell.execute_reply.started": "2022-08-28T06:39:32.068992Z"
    }
   },
   "outputs": [],
   "source": [
    "np.sum(data.isna()).sort_values(ascending=False)  # смотрим какие колонки содержат пропущенные значения"
   ]
  },
  {
   "cell_type": "code",
   "execution_count": null,
   "metadata": {
    "execution": {
     "iopub.execute_input": "2022-08-28T06:39:32.889452Z",
     "iopub.status.busy": "2022-08-28T06:39:32.888939Z",
     "iopub.status.idle": "2022-08-28T06:39:33.572918Z",
     "shell.execute_reply": "2022-08-28T06:39:33.571779Z",
     "shell.execute_reply.started": "2022-08-28T06:39:32.889403Z"
    }
   },
   "outputs": [],
   "source": [
    "from sklearn import neighbors\n",
    "from sklearn.linear_model import LinearRegression\n",
    "# Заполним пропущенные значения регрессией\n",
    "\n",
    "first_null = [\"Обеспеченность оборота розничной торговли запасами, дней\", \"Товарные запасы в организациях розничной торговли, млрд.руб.\", \"Ввод в действие жилых домов, млн кв.м\", \"Реальные товарные запасы в организациях розничной торговли\"]\n",
    "first_null_date = first_null + ['date']\n",
    "not_null_df = data[[item for item in data.columns if item not in first_null_date]]\n",
    "plt.subplots(figsize=(10,10))\n",
    "\n",
    "for null_val in first_null:\n",
    "#     regress = neighbors.KNeighborsRegressor()\n",
    "    regress = LinearRegression()\n",
    "    regress.fit(not_null_df[24:], data[null_val][24:])\n",
    "    predicted_values = regress.predict(not_null_df[:24])\n",
    "    data.loc[:24, null_val] = predicted_values\n",
    "    plt.plot(data[null_val], label=null_val)\n",
    "    \n",
    "plt.axvline(pd.Timestamp('2005-01-01'),color='r')\n",
    "plt.legend()"
   ]
  },
  {
   "cell_type": "code",
   "execution_count": null,
   "metadata": {
    "execution": {
     "iopub.execute_input": "2022-08-28T06:39:33.575643Z",
     "iopub.status.busy": "2022-08-28T06:39:33.574995Z",
     "iopub.status.idle": "2022-08-28T06:39:33.584005Z",
     "shell.execute_reply": "2022-08-28T06:39:33.583056Z",
     "shell.execute_reply.started": "2022-08-28T06:39:33.575600Z"
    }
   },
   "outputs": [],
   "source": [
    "np.sum(np.sum(data.isna())) # пропущенных значений нет"
   ]
  },
  {
   "cell_type": "markdown",
   "metadata": {},
   "source": [
    "#### Удалим коррелирующие признаки"
   ]
  },
  {
   "cell_type": "code",
   "execution_count": null,
   "metadata": {},
   "outputs": [],
   "source": [
    "sns.heatmap(data.corr())"
   ]
  },
  {
   "cell_type": "code",
   "execution_count": null,
   "metadata": {
    "execution": {
     "iopub.execute_input": "2022-08-28T06:39:34.364253Z",
     "iopub.status.busy": "2022-08-28T06:39:34.363400Z",
     "iopub.status.idle": "2022-08-28T06:39:35.575621Z",
     "shell.execute_reply": "2022-08-28T06:39:35.574199Z",
     "shell.execute_reply.started": "2022-08-28T06:39:34.364205Z"
    }
   },
   "outputs": [],
   "source": [
    "drop_columns = []\n",
    "TH = 0.95\n",
    "\n",
    "for col1 in data.columns:\n",
    "    for col2 in data.columns:\n",
    "        if col1 != col2 and data[col1].corr(data[col2]) > TH:\n",
    "            drop_columns.append(col2)\n",
    "\n",
    "len(set(drop_columns))"
   ]
  },
  {
   "cell_type": "code",
   "execution_count": null,
   "metadata": {
    "execution": {
     "iopub.execute_input": "2022-08-28T06:39:37.284466Z",
     "iopub.status.busy": "2022-08-28T06:39:37.283737Z",
     "iopub.status.idle": "2022-08-28T06:39:37.293164Z",
     "shell.execute_reply": "2022-08-28T06:39:37.292176Z",
     "shell.execute_reply.started": "2022-08-28T06:39:37.284415Z"
    }
   },
   "outputs": [],
   "source": [
    "data1 = data.drop(set(drop_columns), axis=1)\n",
    "data1.shape"
   ]
  },
  {
   "cell_type": "markdown",
   "metadata": {},
   "source": [
    "#### Читаем тестовые данные (будем работать позже с этим)"
   ]
  },
  {
   "cell_type": "code",
   "execution_count": null,
   "metadata": {
    "execution": {
     "iopub.execute_input": "2022-08-28T06:39:37.520482Z",
     "iopub.status.busy": "2022-08-28T06:39:37.519956Z",
     "iopub.status.idle": "2022-08-28T06:39:37.528801Z",
     "shell.execute_reply": "2022-08-28T06:39:37.527386Z",
     "shell.execute_reply.started": "2022-08-28T06:39:37.520429Z"
    }
   },
   "outputs": [],
   "source": [
    "from sklearn.model_selection import train_test_split\n",
    "\n",
    "\n",
    "def df_split_test_predict(df, forecast = 'Forecast'):\n",
    "    return df[df.ne(forecast).all(1)], df[df.eq(forecast).any(1)]\n",
    "def df_split_train_test(df, size = 0.2, forecast = 'Forecast'):\n",
    "    return train_test_split(df[df.ne(forecast).all(1)], test_size=0.2, shuffle=False)"
   ]
  },
  {
   "cell_type": "markdown",
   "metadata": {},
   "source": [
    "#### Модель корректировки разложения Фурье"
   ]
  },
  {
   "cell_type": "code",
   "execution_count": null,
   "metadata": {
    "execution": {
     "iopub.execute_input": "2022-08-28T07:04:41.647963Z",
     "iopub.status.busy": "2022-08-28T07:04:41.647486Z",
     "iopub.status.idle": "2022-08-28T07:04:41.661303Z",
     "shell.execute_reply": "2022-08-28T07:04:41.659767Z",
     "shell.execute_reply.started": "2022-08-28T07:04:41.647926Z"
    }
   },
   "outputs": [],
   "source": [
    "class model(torch.nn.Module):\n",
    "    def __init__(self, periods):\n",
    "        \n",
    "        super(model, self).__init__()\n",
    "        \n",
    "        order = len(periods)\n",
    "        \n",
    "        self.periods = torch.tensor(periods)\n",
    "        \n",
    "        self.periods_sin = torch.nn.Parameter(torch.tensor(periods), requires_grad=True)\n",
    "        self.periods_cos = torch.nn.Parameter(torch.tensor(periods), requires_grad=True)\n",
    "        self.interceptions_sin = torch.nn.Parameter(torch.rand(order, requires_grad=True))\n",
    "        self.interceptions_cos = torch.nn.Parameter(torch.rand(order, requires_grad=True))\n",
    "        self.coefs_sin = torch.nn.Parameter(torch.rand(order, requires_grad=True))\n",
    "        self.coefs_cos = torch.nn.Parameter(torch.rand(order, requires_grad=True))\n",
    "        self.const = torch.nn.Parameter(torch.tensor(1., requires_grad=True))\n",
    "        self.const_interception = torch.nn.Parameter(torch.tensor(1., requires_grad=True))\n",
    "        \n",
    "    def forward(self, X):\n",
    "        y = 0\n",
    "        for i in range(len(self.periods)):\n",
    "            y += self.coefs_sin[i]*torch.sin(self.periods_sin[i]*X+self.interceptions_sin[i])\n",
    "            y += self.coefs_cos[i]*torch.cos(self.periods_cos[i]*X+self.interceptions_cos[i])\n",
    "        y += self.const*X\n",
    "        y += self.const_interception\n",
    "        return y"
   ]
  },
  {
   "cell_type": "markdown",
   "metadata": {},
   "source": [
    "#### Функция возвращает функцию фичи"
   ]
  },
  {
   "cell_type": "code",
   "execution_count": null,
   "metadata": {},
   "outputs": [],
   "source": [
    "def pearson_mse(x, y):  # смешанный лосс\n",
    "    alpha = 5\n",
    "    loss_mse = torch.nn.MSELoss()(x, y)\n",
    "    vx = x - torch.mean(x)\n",
    "    vy = y - torch.mean(y)\n",
    "    pearson_loss = torch.sum(vx * vy) / (torch.sqrt(torch.sum(vx ** 2)) * torch.sqrt(torch.sum(vy ** 2)))\n",
    "    return loss_mse + 1/alpha * (-pearson_loss)"
   ]
  },
  {
   "cell_type": "code",
   "execution_count": null,
   "metadata": {
    "execution": {
     "iopub.execute_input": "2022-08-28T07:07:29.810071Z",
     "iopub.status.busy": "2022-08-28T07:07:29.809619Z",
     "iopub.status.idle": "2022-08-28T07:07:29.822890Z",
     "shell.execute_reply": "2022-08-28T07:07:29.821720Z",
     "shell.execute_reply.started": "2022-08-28T07:07:29.810029Z"
    }
   },
   "outputs": [],
   "source": [
    "def feature_function(feature, print_loss=False):\n",
    "    #########################\n",
    "    #CONFIG \n",
    "    \n",
    "    TH = 0.05  # какие периоды отсекаем по сравнению с максимумом\n",
    "    max_periods = 3  # ограничение на максимальное кол-во периодов\n",
    "    \n",
    "    epochs = 10000\n",
    "    lr=1e-2\n",
    "    loss_function = pearson_mse\n",
    "    #########################\n",
    "    \n",
    "    freqencies, spectrum = periodogram(  # разложение Фурье\n",
    "        feature,\n",
    "        fs=156,\n",
    "        detrend='linear',\n",
    "        window=\"boxcar\",\n",
    "        scaling='spectrum',\n",
    "    )\n",
    "\n",
    "    max_a = max(spectrum)\n",
    "    n_periods = min(max_periods, np.sum(spectrum > max_a*TH))\n",
    "    a = freqencies[np.argsort(spectrum)[:-n_periods-1:-1]]\n",
    "    net = model(a)  # тренируем сеть корректировки\n",
    "    y = torch.tensor(feature)\n",
    "    opt = torch.optim.Adam(net.parameters(), lr=lr)\n",
    "    for epoch in range(epochs):\n",
    "        out = net(torch.tensor(np.arange(0, 156)))\n",
    "        loss = loss_function(out, y)\n",
    "        opt.zero_grad()\n",
    "        loss.backward()\n",
    "        opt.step()\n",
    "    if print_loss:\n",
    "        print(loss)\n",
    "    return net"
   ]
  },
  {
   "cell_type": "markdown",
   "metadata": {},
   "source": [
    "## Посчитаем функции для фич"
   ]
  },
  {
   "cell_type": "code",
   "execution_count": null,
   "metadata": {
    "execution": {
     "iopub.execute_input": "2022-08-28T06:40:24.822657Z",
     "iopub.status.busy": "2022-08-28T06:40:24.822185Z",
     "iopub.status.idle": "2022-08-28T06:49:14.128539Z",
     "shell.execute_reply": "2022-08-28T06:49:14.126864Z",
     "shell.execute_reply.started": "2022-08-28T06:40:24.822619Z"
    }
   },
   "outputs": [],
   "source": [
    "import time\n",
    "start = time.time()\n",
    "funcs = []\n",
    "for i in range(data1.shape[1]):\n",
    "    feature = data1.iloc[:,i].values\n",
    "    funcs.append(feature_function(feature, print_loss=False))\n",
    "    print(i)\n",
    "print(time.time()-start)"
   ]
  },
  {
   "cell_type": "markdown",
   "metadata": {},
   "source": [
    "#### Теперь напишем функцию получения матрицы X по массиву дат"
   ]
  },
  {
   "cell_type": "code",
   "execution_count": null,
   "metadata": {
    "execution": {
     "iopub.execute_input": "2022-08-28T06:49:19.580295Z",
     "iopub.status.busy": "2022-08-28T06:49:19.579761Z",
     "iopub.status.idle": "2022-08-28T06:49:19.589697Z",
     "shell.execute_reply": "2022-08-28T06:49:19.588518Z",
     "shell.execute_reply.started": "2022-08-28T06:49:19.580248Z"
    }
   },
   "outputs": [],
   "source": [
    "def calc_all_time_X():\n",
    "    return [[j] + [funcs[i](j-156) for i in range(len(funcs))] for j in range(1000)]\n",
    "\n",
    "all_time_data = pd.DataFrame(calc_all_time_X(), columns=['month'] + list(data1.columns))\n",
    "\n",
    "def calc_X(dates):\n",
    "    base = pd.to_datetime(pd.Series(['01-01-1990' for i in range(dates.shape[0])]))\n",
    "    base = base.dt.to_period('M').view(dtype='int64')\n",
    "    \n",
    "    num_dates = pd.Series(dates).dt.to_period('M').view(dtype='int64')-base\n",
    "    data_result = all_time_data.iloc[num_dates[0]:num_dates[0]+dates.shape[0]]\n",
    "    return pd.DataFrame(data_result)"
   ]
  },
  {
   "cell_type": "markdown",
   "metadata": {},
   "source": [
    "#### Снижение размерности"
   ]
  },
  {
   "cell_type": "code",
   "execution_count": null,
   "metadata": {
    "execution": {
     "iopub.execute_input": "2022-08-28T06:49:27.061441Z",
     "iopub.status.busy": "2022-08-28T06:49:27.060508Z",
     "iopub.status.idle": "2022-08-28T06:49:28.518827Z",
     "shell.execute_reply": "2022-08-28T06:49:28.517499Z",
     "shell.execute_reply.started": "2022-08-28T06:49:27.061379Z"
    }
   },
   "outputs": [],
   "source": [
    "from sklearn.decomposition import PCA\n",
    "\n",
    "X = calc_X(data1.index)\n",
    "pca = PCA(n_components=10)\n",
    "pca.fit(X)"
   ]
  },
  {
   "cell_type": "code",
   "execution_count": null,
   "metadata": {
    "execution": {
     "iopub.execute_input": "2022-08-28T06:49:29.920469Z",
     "iopub.status.busy": "2022-08-28T06:49:29.918418Z",
     "iopub.status.idle": "2022-08-28T06:49:29.930675Z",
     "shell.execute_reply": "2022-08-28T06:49:29.929234Z",
     "shell.execute_reply.started": "2022-08-28T06:49:29.920413Z"
    }
   },
   "outputs": [],
   "source": [
    "def test(model):\n",
    "    metrics = {\n",
    "        'mse' : mean_squared_error\n",
    "    }\n",
    "    losses = {}\n",
    "    for key in metrics.keys():\n",
    "        losses[key] = []\n",
    "    \n",
    "    for i in range(20, 30):\n",
    "        try:\n",
    "            test_data = pd.read_excel(f'./test_input/Test_input_{i}.xlsx', sheet_name='Monthly')\n",
    "        except:\n",
    "            continue\n",
    "        test_data = data_preparation(test_data, test=True)\n",
    "        train, test = df_split_train_test(test_data)\n",
    "        X_train, X_test = pca.transform(calc_X(train.index)), pca.transform(calc_X(test.index))\n",
    "        for var in range(1, test_data.shape[1]+1):\n",
    "            \n",
    "            train_var, test_var = train[f'Var{var}'], test[f'Var{var}']\n",
    "\n",
    "            model.fit(X_train, train_var)\n",
    "            pred = model.predict(X_test)\n",
    "\n",
    "            for metric in metrics.keys():\n",
    "                losses[metric].append(metrics[metric](test_var, pred))\n",
    "            #print(i, var, mean_squared_error(test_var, pred))\n",
    "    for metric in metrics.keys():\n",
    "        losses[metric] = sum(losses[metric])/len(losses[metric])\n",
    "            \n",
    "    return losses"
   ]
  },
  {
   "cell_type": "code",
   "execution_count": null,
   "metadata": {
    "execution": {
     "iopub.execute_input": "2022-08-27T23:03:51.158664Z",
     "iopub.status.busy": "2022-08-27T23:03:51.158301Z",
     "iopub.status.idle": "2022-08-27T23:03:51.168518Z",
     "shell.execute_reply": "2022-08-27T23:03:51.166963Z",
     "shell.execute_reply.started": "2022-08-27T23:03:51.158615Z"
    }
   },
   "outputs": [],
   "source": [
    "def predict_test(path, model = LinearRegression(), excel_sheet = 'Monthly', forecast = 'Forecast'):\n",
    "        try:\n",
    "            test_data = pd.read_excel(path, sheet_name=excel_sheet)\n",
    "        except:\n",
    "#             print('Unvalid file. Check sheet name or file format')\n",
    "            return pd.DataFrame()\n",
    "        indexes = test_data['Unnamed: 0']\n",
    "        test_data = data_preparation(test_data, test=True)\n",
    "        \n",
    "        for column in test_data.columns:\n",
    "            var = test_data[column]\n",
    "            train = var[var != forecast]\n",
    "            pred = var[var == forecast]\n",
    "            if pred.empty:\n",
    "                continue\n",
    "            if train.empty:\n",
    "                print('Unvalid train data!!!')\n",
    "                break\n",
    "            X_train, X_pred = calc_X(train.index), calc_X(pred.index)\n",
    "\n",
    "            model.fit(X_train, train)\n",
    "            pred = model.predict(X_pred)\n",
    "            test_data.loc[var[var == forecast].index, column] = pred\n",
    "#         print(indexes)\n",
    "#         print(test_data.index)\n",
    "        test_data.index = indexes\n",
    "        test_data.index.names = ['']\n",
    "        return test_data"
   ]
  },
  {
   "cell_type": "code",
   "execution_count": null,
   "metadata": {},
   "outputs": [],
   "source": [
    "from pandas import ExcelWriter\n",
    "\n",
    "for i in range(0,4445):\n",
    "    with ExcelWriter(f'./test_output/Test_output_{i}.xlsx') as writer:\n",
    "        month = predict_test(f'./test_input/Test_input_{i}.xlsx', Lasso(alpha = 12), 'Monthly')\n",
    "        if not month.empty:\n",
    "            month.to_excel(writer, sheet_name='Monthly')\n",
    "        else:\n",
    "            print(f'No month in {i}')\n",
    "        Quartel = predict_test(f'./test_input/Test_input_{i}.xlsx', Lasso(alpha = 12), 'Quarterly')\n",
    "        if not Quartel.empty:\n",
    "            print(f'Quarterly in {i}')\n",
    "            Quartel.to_excel(writer, sheet_name='Quarterly')\n",
    "# 4445"
   ]
  },
  {
   "cell_type": "code",
   "execution_count": null,
   "metadata": {},
   "outputs": [],
   "source": []
  }
 ],
 "metadata": {
  "kernelspec": {
   "display_name": "Python 3 (ipykernel)",
   "language": "python",
   "name": "python3"
  },
  "language_info": {
   "codemirror_mode": {
    "name": "ipython",
    "version": 3
   },
   "file_extension": ".py",
   "mimetype": "text/x-python",
   "name": "python",
   "nbconvert_exporter": "python",
   "pygments_lexer": "ipython3",
   "version": "3.7.8"
  }
 },
 "nbformat": 4,
 "nbformat_minor": 4
}
